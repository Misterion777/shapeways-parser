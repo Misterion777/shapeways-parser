{
 "cells": [
  {
   "cell_type": "code",
   "execution_count": 65,
   "metadata": {},
   "outputs": [],
   "source": [
    "import time\n",
    "import requests\n",
    "from lxml import html"
   ]
  },
  {
   "cell_type": "code",
   "execution_count": 72,
   "metadata": {},
   "outputs": [],
   "source": [
    "ROOT = 'https://www.shapeways.com/designer/mz4250/creations'\n"
   ]
  },
  {
   "cell_type": "code",
   "execution_count": 87,
   "metadata": {},
   "outputs": [
    {
     "name": "stdout",
     "output_type": "stream",
     "text": [
      "Beholder - Gauth \n",
      "https://www.shapeways.com/product/933A3SDSD/beholder-gauth?optionId=63098535&li=user-profile\n",
      "Beholder - Death Kiss\n",
      "https://www.shapeways.com/product/TLBAL97N7/beholder-death-kiss?optionId=63091979&li=user-profile\n",
      "Beholder New Split up\n",
      "https://www.shapeways.com/product/7JCKRV4YC/beholder-new-split-up?optionId=64053471&li=user-profile\n",
      " Beholder (updated)\n",
      "https://www.shapeways.com/product/QXWAVMFNV/beholder-updated?optionId=59691226&li=user-profile\n",
      "Beholder - Gazer\n",
      "https://www.shapeways.com/product/RMUJFNLUN/beholder-gazer?optionId=63160758&li=user-profile\n",
      "Beholder New Split up\n",
      "https://www.shapeways.com/product/7JCKRV4YC/beholder-new-split-up?optionId=64053471&li=user-profile\n"
     ]
    }
   ],
   "source": [
    "TO_FIND = \"Beholder\"\n",
    "\n",
    "PRODUCTS_PER_PAGE = 48\n",
    "PAGES = 31\n",
    "\n",
    "start_time = time.time()\n",
    "results = []\n",
    "page_number = 0\n",
    "while page_number < PAGES:\n",
    "    page = requests.get(ROOT, params = {\"s\": page_number * PRODUCTS_PER_PAGE})\n",
    "    tree = html.fromstring(page.content)\n",
    "    search_result = tree.xpath(\"//div[@class='product-name']/a[@href]\")\n",
    "    for a in search_result:\n",
    "        if TO_FIND.lower() in a.text.lower():\n",
    "            results.append(a)\n",
    "            \n",
    "    page_number += 1\n",
    "\n",
    "print(\"Search time:\" + str(time.time() - start_time))\n",
    "if results:\n",
    "    for result in set(results):\n",
    "        print(result.text)\n",
    "        print(result.get(\"href\"))\n",
    "else:\n",
    "    print(\"No results found!\")"
   ]
  },
  {
   "cell_type": "code",
   "execution_count": null,
   "metadata": {},
   "outputs": [],
   "source": []
  }
 ],
 "metadata": {
  "kernelspec": {
   "display_name": "Python 3",
   "language": "python",
   "name": "python3"
  },
  "language_info": {
   "codemirror_mode": {
    "name": "ipython",
    "version": 3
   },
   "file_extension": ".py",
   "mimetype": "text/x-python",
   "name": "python",
   "nbconvert_exporter": "python",
   "pygments_lexer": "ipython3",
   "version": "3.7.1"
  }
 },
 "nbformat": 4,
 "nbformat_minor": 2
}
